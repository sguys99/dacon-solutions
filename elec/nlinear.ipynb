{
 "cells": [
  {
   "attachments": {},
   "cell_type": "markdown",
   "metadata": {},
   "source": [
    "## LSTF-linear\n",
    "- https://today-1.tistory.com/60"
   ]
  },
  {
   "cell_type": "code",
   "execution_count": 1,
   "metadata": {},
   "outputs": [],
   "source": [
    "import os\n",
    "import sys\n",
    "import time\n",
    "import numpy as np\n",
    "import pandas as pd\n",
    "import matplotlib as mpl\n",
    "import matplotlib.pyplot as plt\n",
    "import matplotlib.gridspec as gridspec\n",
    "import seaborn as sns\n",
    "from scipy import stats\n",
    "import warnings; warnings.filterwarnings('ignore')\n",
    "#plt.style.use('ggplot')\n",
    "plt.style.use('seaborn-whitegrid')\n",
    "%matplotlib inline\n",
    "\n",
    "# Options for pandas\n",
    "pd.options.display.max_columns = 200\n",
    "pd.set_option(\"display.max_rows\", 100)"
   ]
  },
  {
   "cell_type": "code",
   "execution_count": 2,
   "metadata": {},
   "outputs": [],
   "source": [
    "import torch\n",
    "import torch.nn as nn\n",
    "import torch.nn.functional as F\n",
    "\n",
    "from tqdm.auto import tqdm"
   ]
  },
  {
   "cell_type": "code",
   "execution_count": 3,
   "metadata": {},
   "outputs": [],
   "source": [
    "class LTSF_Linear(nn.Module):\n",
    "    def __init__(self, window_size, forecast_size, individual, feature_size):\n",
    "        super(LTSF_Linear, self).__init__()\n",
    "        self.window_size = window_size\n",
    "        self.forecast_size = forecast_size\n",
    "        self.individual = individual\n",
    "        self.channels = feature_size\n",
    "        \n",
    "        if self.individual:\n",
    "            self.Linear = torch.nn.ModuleList()\n",
    "            for i in range(self.channels):\n",
    "                self.Liner.append(torch.nn.Linear(self.window_size, self.forecast_size))\n",
    "        else:\n",
    "            self.Linear = torch.nn.Linear(self.window_size, self.forecast_size)\n",
    "            \n",
    "    def forward(self, x):\n",
    "        # x: [Batch, Input length, feature size]\n",
    "        if self.individual:\n",
    "            output = torch.zeros([x.size(0), self.forecast_size, x.size(2)],\n",
    "                                 dtype = x.dtype).to(x.device)\n",
    "            for i in range(self.channels):\n",
    "                output[:, :, i] = self.Linear[i](x[:, :, i])\n",
    "            x = output\n",
    "        else:\n",
    "            x = self.Linear(x.permute(0, 2, 1)).permute(0, 2, 1)\n",
    "        return x # [Batch, Output length, feature size]        "
   ]
  },
  {
   "cell_type": "code",
   "execution_count": 4,
   "metadata": {},
   "outputs": [
    {
     "data": {
      "text/plain": [
       "torch.Size([32, 3, 5])"
      ]
     },
     "execution_count": 4,
     "metadata": {},
     "output_type": "execute_result"
    }
   ],
   "source": [
    "batch_size = 32 \n",
    "in_seq_len = 3 \n",
    "pred_len = 2\n",
    "channel = 5\n",
    "X = torch.randn(batch_size, in_seq_len, channel)\n",
    "X.shape"
   ]
  },
  {
   "cell_type": "code",
   "execution_count": 5,
   "metadata": {},
   "outputs": [
    {
     "data": {
      "text/plain": [
       "Linear(in_features=3, out_features=2, bias=True)"
      ]
     },
     "execution_count": 5,
     "metadata": {},
     "output_type": "execute_result"
    }
   ],
   "source": [
    "one_linear = nn.Linear(\n",
    "    in_features=in_seq_len,\n",
    "    out_features=pred_len\n",
    ")\n",
    "one_linear"
   ]
  },
  {
   "cell_type": "code",
   "execution_count": 6,
   "metadata": {},
   "outputs": [
    {
     "data": {
      "text/plain": [
       "torch.Size([32, 2, 5])"
      ]
     },
     "execution_count": 6,
     "metadata": {},
     "output_type": "execute_result"
    }
   ],
   "source": [
    "output = torch.zeros(batch_size, pred_len, channel)\n",
    "output.shape"
   ]
  },
  {
   "cell_type": "code",
   "execution_count": 7,
   "metadata": {},
   "outputs": [],
   "source": [
    "# 한 채널만 예시로\n",
    "output[:,:,0]=one_linear(X[:,:,0])"
   ]
  },
  {
   "cell_type": "code",
   "execution_count": 8,
   "metadata": {},
   "outputs": [
    {
     "name": "stdout",
     "output_type": "stream",
     "text": [
      "tensor([-0.0571,  0.8823,  0.8055, -0.5190,  0.8661, -0.4205, -0.3200, -0.0144,\n",
      "        -0.6285, -0.2218, -0.3365, -0.6867,  0.1758, -1.3017, -0.1676,  0.1785,\n",
      "        -0.2600,  0.6459,  0.0721, -0.0899, -0.0042,  1.0983,  0.3661,  0.8148,\n",
      "         0.5063, -0.1642,  0.0844, -0.0876,  0.2977,  0.1380,  0.3722,  0.1994],\n",
      "       grad_fn=<SelectBackward0>)\n",
      "tensor([ 0.0432,  0.5024,  0.1522, -0.2923,  0.5946,  0.0102,  0.0715, -0.0838,\n",
      "        -0.1525, -0.0707, -0.0290, -0.1910,  0.2703, -0.2671, -0.0426, -0.0227,\n",
      "        -0.0082,  0.3712,  0.1396, -0.0271,  0.0362,  0.3784,  0.3668,  0.6464,\n",
      "         0.3604,  0.0680,  0.0607, -0.3158,  0.1252,  0.1535,  0.5722,  0.2297],\n",
      "       grad_fn=<SelectBackward0>)\n"
     ]
    }
   ],
   "source": [
    "print(output[:,0,0])\n",
    "print(output[:,1,0])"
   ]
  },
  {
   "cell_type": "code",
   "execution_count": 9,
   "metadata": {},
   "outputs": [
    {
     "data": {
      "text/plain": [
       "torch.Size([32, 2, 5])"
      ]
     },
     "execution_count": 9,
     "metadata": {},
     "output_type": "execute_result"
    }
   ],
   "source": [
    "output = one_linear(X.permute(0,2,1)).permute(0,2,1)\n",
    "output.shape"
   ]
  },
  {
   "cell_type": "markdown",
   "metadata": {},
   "source": [
    "### NLinear"
   ]
  },
  {
   "cell_type": "code",
   "execution_count": 10,
   "metadata": {},
   "outputs": [],
   "source": [
    "class LTSF_NLinear(nn.Module):\n",
    "    def __init__(\n",
    "        self,\n",
    "        window_size,\n",
    "        forecast_size, \n",
    "        individual,\n",
    "        feature_size\n",
    "    ):\n",
    "        super(LTSF_NLinear, self).__init__()\n",
    "        self.window_size = window_size\n",
    "        self.forcast_size = forecast_size\n",
    "        self.individual = individual\n",
    "        self.channels = feature_size\n",
    "        if self.individual:\n",
    "            self.Linear = torch.nn.ModuleList()\n",
    "            for i in range(self.channels):\n",
    "                self.Linear.append(torch.nn.Linear(self.window_size, self.forcast_size))\n",
    "        else:\n",
    "            self.Linear = torch.nn.Linear(self.window_size, self.forcast_size)\n",
    "            \n",
    "    def forward(self, x):\n",
    "        seq_last = x[: -1:, :].detach() # 기존 텐서를 복사하는 방법\n",
    "        x = x - seq_last\n",
    "        if self.individual:\n",
    "            output = torch.zeros([x.size(0), self.forcast_size, x.size(2)],\n",
    "                                 dtype=x.dtype).to(x.device)\n",
    "            for i in range(self.channels):\n",
    "                output[:,:,i] = self.Linear[i](x[:,:,i])\n",
    "            x = output\n",
    "        else:\n",
    "            x = self.Linear(x.permute(0,2,1)).permute(0,2,1)\n",
    "        x = x + seq_last\n",
    "        return x"
   ]
  },
  {
   "cell_type": "code",
   "execution_count": null,
   "metadata": {},
   "outputs": [],
   "source": []
  },
  {
   "cell_type": "markdown",
   "metadata": {},
   "source": [
    "### DLinear"
   ]
  },
  {
   "cell_type": "code",
   "execution_count": 11,
   "metadata": {},
   "outputs": [],
   "source": [
    "class moving_avg(nn.Module):\n",
    "    def __init__(self, kernel_size, stride):\n",
    "        super(moving_avg, self).__init__()\n",
    "        self.kernel_size = kernel_size\n",
    "        self.avg = nn.AvgPool1d(\n",
    "            kernel_size=kernel_size,\n",
    "            stride=stride,\n",
    "            padding = 0\n",
    "        )\n",
    "        \n",
    "    def forward(self, x):\n",
    "        # [BATCH SIZE, SEQ_LEN, CHANNEL]\n",
    "        # padding on the both ends of time series\n",
    "        front = x[:, 0:1, :].repeat(1, (self.kernel_size - 1) // 2, 1)\n",
    "        end = x[:, -1:, :].repeat(1, (self.kernel_size - 1) // 2, 1)\n",
    "        x = torch.cat([front, x, end], dim=1) # 패딩을 위한 것\n",
    "        x = self.avg(x.permute(0, 2, 1))\n",
    "        x = x.permute(0, 2, 1)\n",
    "        return x # [BATCH SIZE, SEQ_LEN, CHANNEL]"
   ]
  },
  {
   "cell_type": "code",
   "execution_count": 12,
   "metadata": {},
   "outputs": [],
   "source": [
    "class series_decomp(nn.Module):\n",
    "    def __init__(self, kernel_size):\n",
    "        super(series_decomp, self).__init__()\n",
    "        self.moving_avg = moving_avg(kernel_size, stride=1)\n",
    "\n",
    "    def forward(self, x):\n",
    "        moving_mean = self.moving_avg(x)\n",
    "        residual = x - moving_mean\n",
    "        return moving_mean, residual "
   ]
  },
  {
   "cell_type": "code",
   "execution_count": 13,
   "metadata": {},
   "outputs": [],
   "source": [
    "class LTSF_DLinear(torch.nn.Module):\n",
    "    def __init__(self, window_size, forecast_size, kernel_size, individual, feature_size):\n",
    "        super(LTSF_DLinear, self).__init__()\n",
    "        self.window_size = window_size\n",
    "        self.forcast_size = forecast_size\n",
    "        self.decompsition = series_decomp(kernel_size)\n",
    "        self.individual = individual\n",
    "        self.channels = feature_size\n",
    "        if self.individual:\n",
    "            self.Linear_Seasonal = torch.nn.ModuleList()\n",
    "            self.Linear_Trend = torch.nn.ModuleList()\n",
    "            for i in range(self.channels):\n",
    "                self.Linear_Trend.append(\n",
    "                    torch.nn.Linear(\n",
    "                        self.window_size, \n",
    "                        self.forcast_size))\n",
    "                self.Linear_Trend[i].weight = torch.nn.Parameter((1/self.window_size)*torch.ones([self.forcast_size, self.window_size]))\n",
    "                self.Linear_Seasonal.append(torch.nn.Linear(self.window_size, self.forcast_size))\n",
    "                self.Linear_Seasonal[i].weight = torch.nn.Parameter((1/self.window_size)*torch.ones([self.forcast_size, self.window_size]))\n",
    "        else:\n",
    "            self.Linear_Trend = torch.nn.Linear(self.window_size, self.forcast_size)\n",
    "            self.Linear_Trend.weight = torch.nn.Parameter((1/self.window_size)*torch.ones([self.forcast_size, self.window_size]))\n",
    "            self.Linear_Seasonal = torch.nn.Linear(self.window_size,  self.forcast_size)\n",
    "            self.Linear_Seasonal.weight = torch.nn.Parameter((1/self.window_size)*torch.ones([self.forcast_size, self.window_size]))\n",
    "\n",
    "    def forward(self, x):\n",
    "        # x: [Batch, Input length, Channel]\n",
    "        trend_init, seasonal_init = self.decompsition(x)\n",
    "        # seasonal_init: [Batch, Input length, Channel]\n",
    "        # trend_init: [Batch, Input length, Channel]\n",
    "        trend_init, seasonal_init = trend_init.permute(0,2,1), seasonal_init.permute(0,2,1)\n",
    "        if self.individual:\n",
    "            trend_output = torch.zeros([trend_init.size(0), trend_init.size(1), self.forcast_size], dtype=trend_init.dtype).to(trend_init.device)\n",
    "            seasonal_output = torch.zeros([seasonal_init.size(0), seasonal_init.size(1), self.forcast_size], dtype=seasonal_init.dtype).to(seasonal_init.device)\n",
    "            for idx in range(self.channels):\n",
    "                trend_output[:, idx, :] = self.Linear_Trend[idx](trend_init[:, idx, :])\n",
    "                seasonal_output[:, idx, :] = self.Linear_Seasonal[idx](seasonal_init[:, idx, :])                \n",
    "        else:\n",
    "            trend_output = self.Linear_Trend(trend_init)\n",
    "            seasonal_output = self.Linear_Seasonal(seasonal_init)\n",
    "        x = seasonal_output + trend_output\n",
    "        return x.permute(0,2,1)"
   ]
  },
  {
   "cell_type": "markdown",
   "metadata": {},
   "source": [
    "---"
   ]
  },
  {
   "cell_type": "code",
   "execution_count": 14,
   "metadata": {},
   "outputs": [],
   "source": [
    "#Library Imports\n",
    "import numpy as np\n",
    "import pandas as pd\n",
    "import math\n",
    "import os\n",
    "import matplotlib.pyplot as plt\n",
    "\n",
    "from sklearn.metrics import mean_absolute_error\n",
    "from sklearn.model_selection import KFold"
   ]
  },
  {
   "cell_type": "code",
   "execution_count": 15,
   "metadata": {},
   "outputs": [],
   "source": [
    "train=pd.read_csv('../data/elec/train.csv',encoding='cp949')\n",
    "test=pd.read_csv('../data/elec/test.csv', encoding='cp949')\n",
    "submission=pd.read_csv('../data/elec/sample_submission.csv')\n"
   ]
  },
  {
   "cell_type": "code",
   "execution_count": 16,
   "metadata": {},
   "outputs": [
    {
     "data": {
      "text/plain": [
       "Index(['num', 'date_time', '전력사용량(kWh)', '기온(°C)', '풍속(m/s)', '습도(%)',\n",
       "       '강수량(mm)', '일조(hr)', '비전기냉방설비운영', '태양광보유'],\n",
       "      dtype='object')"
      ]
     },
     "execution_count": 16,
     "metadata": {},
     "output_type": "execute_result"
    }
   ],
   "source": [
    "train.columns"
   ]
  },
  {
   "cell_type": "code",
   "execution_count": 17,
   "metadata": {},
   "outputs": [
    {
     "data": {
      "text/html": [
       "<div>\n",
       "<style scoped>\n",
       "    .dataframe tbody tr th:only-of-type {\n",
       "        vertical-align: middle;\n",
       "    }\n",
       "\n",
       "    .dataframe tbody tr th {\n",
       "        vertical-align: top;\n",
       "    }\n",
       "\n",
       "    .dataframe thead th {\n",
       "        text-align: right;\n",
       "    }\n",
       "</style>\n",
       "<table border=\"1\" class=\"dataframe\">\n",
       "  <thead>\n",
       "    <tr style=\"text-align: right;\">\n",
       "      <th></th>\n",
       "      <th>num</th>\n",
       "      <th>date_time</th>\n",
       "      <th>전력사용량(kWh)</th>\n",
       "      <th>기온(°C)</th>\n",
       "      <th>풍속(m/s)</th>\n",
       "      <th>습도(%)</th>\n",
       "      <th>강수량(mm)</th>\n",
       "      <th>일조(hr)</th>\n",
       "      <th>비전기냉방설비운영</th>\n",
       "      <th>태양광보유</th>\n",
       "    </tr>\n",
       "  </thead>\n",
       "  <tbody>\n",
       "    <tr>\n",
       "      <th>8160</th>\n",
       "      <td>5</td>\n",
       "      <td>2020-06-01 00</td>\n",
       "      <td>3063.744</td>\n",
       "      <td>18.3</td>\n",
       "      <td>2.5</td>\n",
       "      <td>94.0</td>\n",
       "      <td>0.0</td>\n",
       "      <td>0.0</td>\n",
       "      <td>1.0</td>\n",
       "      <td>0.0</td>\n",
       "    </tr>\n",
       "    <tr>\n",
       "      <th>8161</th>\n",
       "      <td>5</td>\n",
       "      <td>2020-06-01 01</td>\n",
       "      <td>3147.120</td>\n",
       "      <td>18.8</td>\n",
       "      <td>2.3</td>\n",
       "      <td>89.0</td>\n",
       "      <td>0.0</td>\n",
       "      <td>0.0</td>\n",
       "      <td>1.0</td>\n",
       "      <td>0.0</td>\n",
       "    </tr>\n",
       "    <tr>\n",
       "      <th>8162</th>\n",
       "      <td>5</td>\n",
       "      <td>2020-06-01 02</td>\n",
       "      <td>3098.736</td>\n",
       "      <td>19.0</td>\n",
       "      <td>3.2</td>\n",
       "      <td>86.0</td>\n",
       "      <td>0.0</td>\n",
       "      <td>0.0</td>\n",
       "      <td>1.0</td>\n",
       "      <td>0.0</td>\n",
       "    </tr>\n",
       "    <tr>\n",
       "      <th>8163</th>\n",
       "      <td>5</td>\n",
       "      <td>2020-06-01 03</td>\n",
       "      <td>3047.760</td>\n",
       "      <td>19.0</td>\n",
       "      <td>4.1</td>\n",
       "      <td>85.0</td>\n",
       "      <td>0.0</td>\n",
       "      <td>0.0</td>\n",
       "      <td>1.0</td>\n",
       "      <td>0.0</td>\n",
       "    </tr>\n",
       "    <tr>\n",
       "      <th>8164</th>\n",
       "      <td>5</td>\n",
       "      <td>2020-06-01 04</td>\n",
       "      <td>3111.696</td>\n",
       "      <td>18.9</td>\n",
       "      <td>3.9</td>\n",
       "      <td>87.0</td>\n",
       "      <td>0.0</td>\n",
       "      <td>0.0</td>\n",
       "      <td>1.0</td>\n",
       "      <td>0.0</td>\n",
       "    </tr>\n",
       "  </tbody>\n",
       "</table>\n",
       "</div>"
      ],
      "text/plain": [
       "      num      date_time  전력사용량(kWh)  기온(°C)  풍속(m/s)  습도(%)  강수량(mm)  일조(hr)   \n",
       "8160    5  2020-06-01 00    3063.744    18.3      2.5   94.0      0.0     0.0  \\\n",
       "8161    5  2020-06-01 01    3147.120    18.8      2.3   89.0      0.0     0.0   \n",
       "8162    5  2020-06-01 02    3098.736    19.0      3.2   86.0      0.0     0.0   \n",
       "8163    5  2020-06-01 03    3047.760    19.0      4.1   85.0      0.0     0.0   \n",
       "8164    5  2020-06-01 04    3111.696    18.9      3.9   87.0      0.0     0.0   \n",
       "\n",
       "      비전기냉방설비운영  태양광보유  \n",
       "8160        1.0    0.0  \n",
       "8161        1.0    0.0  \n",
       "8162        1.0    0.0  \n",
       "8163        1.0    0.0  \n",
       "8164        1.0    0.0  "
      ]
     },
     "execution_count": 17,
     "metadata": {},
     "output_type": "execute_result"
    }
   ],
   "source": [
    "train_5 = train.loc[train['num']==5]\n",
    "train_5.head()"
   ]
  },
  {
   "cell_type": "code",
   "execution_count": 18,
   "metadata": {},
   "outputs": [],
   "source": [
    "train_5['date_time'] = pd.to_datetime(train_5.date_time)"
   ]
  },
  {
   "cell_type": "code",
   "execution_count": 19,
   "metadata": {},
   "outputs": [
    {
     "data": {
      "text/plain": [
       "<Axes: xlabel='date_time'>"
      ]
     },
     "execution_count": 19,
     "metadata": {},
     "output_type": "execute_result"
    },
    {
     "data": {
      "image/png": "[encoded data removed]",
      "text/plain": [
       "<Figure size 1200x500 with 1 Axes>"
      ]
     },
     "metadata": {},
     "output_type": "display_data"
    }
   ],
   "source": [
    "train_5.set_index('date_time')[\"전력사용량(kWh)\"].plot(figsize = (12, 5))"
   ]
  },
  {
   "cell_type": "code",
   "execution_count": 20,
   "metadata": {},
   "outputs": [],
   "source": [
    "def standardization(train_df, test_df, not_col, target):\n",
    "    train_df_ = train_df.copy()\n",
    "    test_df_ = test_df.copy()\n",
    "    col =  [col for col in list(train_df.columns) if col not in [not_col]]\n",
    "    mean_list = []\n",
    "    std_list = []\n",
    "    for x in col:\n",
    "        mean, std = train_df_.agg([\"mean\", \"std\"]).loc[:,x]\n",
    "        mean_list.append(mean)\n",
    "        std_list.append(std)\n",
    "        train_df_.loc[:, x] = (train_df_[x] - mean) / std\n",
    "        test_df_.loc[:, x] = (test_df_[x] - mean) / std\n",
    "    return train_df_, test_df_, mean_list[col.index(target)], std_list[col.index(target)]"
   ]
  },
  {
   "cell_type": "code",
   "execution_count": null,
   "metadata": {},
   "outputs": [],
   "source": []
  },
  {
   "cell_type": "code",
   "execution_count": 21,
   "metadata": {},
   "outputs": [],
   "source": [
    "def time_slide_df(df, window_size, forecast_size, date, target):\n",
    "    df_ = df.copy()\n",
    "    data_list = []\n",
    "    dap_list = []\n",
    "    date_list = []\n",
    "    for idx in range(0, df_.shape[0]-window_size-forecast_size+1):\n",
    "        x = df_.loc[idx:idx+window_size-1, target].values.reshape(window_size, 1)\n",
    "        y = df_.loc[idx+window_size:idx+window_size+forecast_size-1, target].values\n",
    "        date_ = df_.loc[idx+window_size:idx+window_size+forecast_size-1, date].values\n",
    "        data_list.append(x)\n",
    "        dap_list.append(y)\n",
    "        date_list.append(date_)\n",
    "    return np.array(data_list, dtype='float32'), np.array(dap_list, dtype='float32'), np.array(date_list)"
   ]
  },
  {
   "cell_type": "code",
   "execution_count": 22,
   "metadata": {},
   "outputs": [],
   "source": [
    "from torch.utils.data import Dataset\n",
    "from torch.utils.data import DataLoader\n",
    "\n",
    "class Data(Dataset):\n",
    "    def __init__(self, X, Y):\n",
    "        self.X = X\n",
    "        self.Y = Y\n",
    "\n",
    "    def __len__(self):\n",
    "        return len(self.Y)\n",
    "    \n",
    "    def __getitem__(self, idx):\n",
    "        return self.X[idx], self.Y[idx]\n"
   ]
  },
  {
   "cell_type": "code",
   "execution_count": 23,
   "metadata": {},
   "outputs": [],
   "source": [
    "### Univariable ###\n",
    "### 데이터 셋 생성 ###\n",
    "window_size = 72\n",
    "forecast_size= 24\n",
    "batch_size = 32\n",
    "targets = '전력사용량(kWh)'\n",
    "date = 'date_time'"
   ]
  },
  {
   "cell_type": "code",
   "execution_count": 24,
   "metadata": {},
   "outputs": [],
   "source": [
    "train_5 = train_5[train_5.columns[1:-2]].reset_index(drop=True)"
   ]
  },
  {
   "cell_type": "code",
   "execution_count": 25,
   "metadata": {},
   "outputs": [
    {
     "data": {
      "text/html": [
       "<div>\n",
       "<style scoped>\n",
       "    .dataframe tbody tr th:only-of-type {\n",
       "        vertical-align: middle;\n",
       "    }\n",
       "\n",
       "    .dataframe tbody tr th {\n",
       "        vertical-align: top;\n",
       "    }\n",
       "\n",
       "    .dataframe thead th {\n",
       "        text-align: right;\n",
       "    }\n",
       "</style>\n",
       "<table border=\"1\" class=\"dataframe\">\n",
       "  <thead>\n",
       "    <tr style=\"text-align: right;\">\n",
       "      <th></th>\n",
       "      <th>date_time</th>\n",
       "      <th>전력사용량(kWh)</th>\n",
       "      <th>기온(°C)</th>\n",
       "      <th>풍속(m/s)</th>\n",
       "      <th>습도(%)</th>\n",
       "      <th>강수량(mm)</th>\n",
       "      <th>일조(hr)</th>\n",
       "    </tr>\n",
       "  </thead>\n",
       "  <tbody>\n",
       "    <tr>\n",
       "      <th>0</th>\n",
       "      <td>2020-06-01 00:00:00</td>\n",
       "      <td>3063.744</td>\n",
       "      <td>18.3</td>\n",
       "      <td>2.5</td>\n",
       "      <td>94.0</td>\n",
       "      <td>0.0</td>\n",
       "      <td>0.0</td>\n",
       "    </tr>\n",
       "    <tr>\n",
       "      <th>1</th>\n",
       "      <td>2020-06-01 01:00:00</td>\n",
       "      <td>3147.120</td>\n",
       "      <td>18.8</td>\n",
       "      <td>2.3</td>\n",
       "      <td>89.0</td>\n",
       "      <td>0.0</td>\n",
       "      <td>0.0</td>\n",
       "    </tr>\n",
       "    <tr>\n",
       "      <th>2</th>\n",
       "      <td>2020-06-01 02:00:00</td>\n",
       "      <td>3098.736</td>\n",
       "      <td>19.0</td>\n",
       "      <td>3.2</td>\n",
       "      <td>86.0</td>\n",
       "      <td>0.0</td>\n",
       "      <td>0.0</td>\n",
       "    </tr>\n",
       "    <tr>\n",
       "      <th>3</th>\n",
       "      <td>2020-06-01 03:00:00</td>\n",
       "      <td>3047.760</td>\n",
       "      <td>19.0</td>\n",
       "      <td>4.1</td>\n",
       "      <td>85.0</td>\n",
       "      <td>0.0</td>\n",
       "      <td>0.0</td>\n",
       "    </tr>\n",
       "    <tr>\n",
       "      <th>4</th>\n",
       "      <td>2020-06-01 04:00:00</td>\n",
       "      <td>3111.696</td>\n",
       "      <td>18.9</td>\n",
       "      <td>3.9</td>\n",
       "      <td>87.0</td>\n",
       "      <td>0.0</td>\n",
       "      <td>0.0</td>\n",
       "    </tr>\n",
       "    <tr>\n",
       "      <th>...</th>\n",
       "      <td>...</td>\n",
       "      <td>...</td>\n",
       "      <td>...</td>\n",
       "      <td>...</td>\n",
       "      <td>...</td>\n",
       "      <td>...</td>\n",
       "      <td>...</td>\n",
       "    </tr>\n",
       "    <tr>\n",
       "      <th>2035</th>\n",
       "      <td>2020-08-24 19:00:00</td>\n",
       "      <td>3439.152</td>\n",
       "      <td>27.9</td>\n",
       "      <td>1.7</td>\n",
       "      <td>83.0</td>\n",
       "      <td>0.0</td>\n",
       "      <td>0.6</td>\n",
       "    </tr>\n",
       "    <tr>\n",
       "      <th>2036</th>\n",
       "      <td>2020-08-24 20:00:00</td>\n",
       "      <td>3510.432</td>\n",
       "      <td>27.4</td>\n",
       "      <td>1.4</td>\n",
       "      <td>83.0</td>\n",
       "      <td>0.0</td>\n",
       "      <td>0.0</td>\n",
       "    </tr>\n",
       "    <tr>\n",
       "      <th>2037</th>\n",
       "      <td>2020-08-24 21:00:00</td>\n",
       "      <td>3458.160</td>\n",
       "      <td>27.1</td>\n",
       "      <td>1.4</td>\n",
       "      <td>86.0</td>\n",
       "      <td>0.0</td>\n",
       "      <td>0.0</td>\n",
       "    </tr>\n",
       "    <tr>\n",
       "      <th>2038</th>\n",
       "      <td>2020-08-24 22:00:00</td>\n",
       "      <td>3421.008</td>\n",
       "      <td>26.9</td>\n",
       "      <td>0.0</td>\n",
       "      <td>84.0</td>\n",
       "      <td>0.0</td>\n",
       "      <td>0.0</td>\n",
       "    </tr>\n",
       "    <tr>\n",
       "      <th>2039</th>\n",
       "      <td>2020-08-24 23:00:00</td>\n",
       "      <td>3355.344</td>\n",
       "      <td>26.7</td>\n",
       "      <td>1.4</td>\n",
       "      <td>87.0</td>\n",
       "      <td>0.0</td>\n",
       "      <td>0.0</td>\n",
       "    </tr>\n",
       "  </tbody>\n",
       "</table>\n",
       "<p>2040 rows × 7 columns</p>\n",
       "</div>"
      ],
      "text/plain": [
       "               date_time  전력사용량(kWh)  기온(°C)  풍속(m/s)  습도(%)  강수량(mm)  일조(hr)\n",
       "0    2020-06-01 00:00:00    3063.744    18.3      2.5   94.0      0.0     0.0\n",
       "1    2020-06-01 01:00:00    3147.120    18.8      2.3   89.0      0.0     0.0\n",
       "2    2020-06-01 02:00:00    3098.736    19.0      3.2   86.0      0.0     0.0\n",
       "3    2020-06-01 03:00:00    3047.760    19.0      4.1   85.0      0.0     0.0\n",
       "4    2020-06-01 04:00:00    3111.696    18.9      3.9   87.0      0.0     0.0\n",
       "...                  ...         ...     ...      ...    ...      ...     ...\n",
       "2035 2020-08-24 19:00:00    3439.152    27.9      1.7   83.0      0.0     0.6\n",
       "2036 2020-08-24 20:00:00    3510.432    27.4      1.4   83.0      0.0     0.0\n",
       "2037 2020-08-24 21:00:00    3458.160    27.1      1.4   86.0      0.0     0.0\n",
       "2038 2020-08-24 22:00:00    3421.008    26.9      0.0   84.0      0.0     0.0\n",
       "2039 2020-08-24 23:00:00    3355.344    26.7      1.4   87.0      0.0     0.0\n",
       "\n",
       "[2040 rows x 7 columns]"
      ]
     },
     "execution_count": 25,
     "metadata": {},
     "output_type": "execute_result"
    }
   ],
   "source": [
    "train_5"
   ]
  },
  {
   "cell_type": "code",
   "execution_count": 26,
   "metadata": {},
   "outputs": [],
   "source": [
    "train_df_fe, test_df_fe, mean_, std_ = standardization(train_5, train_5, 'date_time', targets)"
   ]
  },
  {
   "cell_type": "code",
   "execution_count": 27,
   "metadata": {},
   "outputs": [
    {
     "data": {
      "text/html": [
       "<div>\n",
       "<style scoped>\n",
       "    .dataframe tbody tr th:only-of-type {\n",
       "        vertical-align: middle;\n",
       "    }\n",
       "\n",
       "    .dataframe tbody tr th {\n",
       "        vertical-align: top;\n",
       "    }\n",
       "\n",
       "    .dataframe thead th {\n",
       "        text-align: right;\n",
       "    }\n",
       "</style>\n",
       "<table border=\"1\" class=\"dataframe\">\n",
       "  <thead>\n",
       "    <tr style=\"text-align: right;\">\n",
       "      <th></th>\n",
       "      <th>date_time</th>\n",
       "      <th>전력사용량(kWh)</th>\n",
       "      <th>기온(°C)</th>\n",
       "      <th>풍속(m/s)</th>\n",
       "      <th>습도(%)</th>\n",
       "      <th>강수량(mm)</th>\n",
       "      <th>일조(hr)</th>\n",
       "    </tr>\n",
       "  </thead>\n",
       "  <tbody>\n",
       "    <tr>\n",
       "      <th>0</th>\n",
       "      <td>2020-06-01 00:00:00</td>\n",
       "      <td>0.858938</td>\n",
       "      <td>-1.721194</td>\n",
       "      <td>-0.359481</td>\n",
       "      <td>0.928674</td>\n",
       "      <td>-0.187485</td>\n",
       "      <td>-0.609422</td>\n",
       "    </tr>\n",
       "    <tr>\n",
       "      <th>1</th>\n",
       "      <td>2020-06-01 01:00:00</td>\n",
       "      <td>1.064000</td>\n",
       "      <td>-1.559529</td>\n",
       "      <td>-0.462486</td>\n",
       "      <td>0.568339</td>\n",
       "      <td>-0.187485</td>\n",
       "      <td>-0.609422</td>\n",
       "    </tr>\n",
       "    <tr>\n",
       "      <th>2</th>\n",
       "      <td>2020-06-01 02:00:00</td>\n",
       "      <td>0.945000</td>\n",
       "      <td>-1.494863</td>\n",
       "      <td>0.001035</td>\n",
       "      <td>0.352139</td>\n",
       "      <td>-0.187485</td>\n",
       "      <td>-0.609422</td>\n",
       "    </tr>\n",
       "    <tr>\n",
       "      <th>3</th>\n",
       "      <td>2020-06-01 03:00:00</td>\n",
       "      <td>0.819625</td>\n",
       "      <td>-1.494863</td>\n",
       "      <td>0.464556</td>\n",
       "      <td>0.280072</td>\n",
       "      <td>-0.187485</td>\n",
       "      <td>-0.609422</td>\n",
       "    </tr>\n",
       "    <tr>\n",
       "      <th>4</th>\n",
       "      <td>2020-06-01 04:00:00</td>\n",
       "      <td>0.976875</td>\n",
       "      <td>-1.527196</td>\n",
       "      <td>0.361551</td>\n",
       "      <td>0.424206</td>\n",
       "      <td>-0.187485</td>\n",
       "      <td>-0.609422</td>\n",
       "    </tr>\n",
       "    <tr>\n",
       "      <th>...</th>\n",
       "      <td>...</td>\n",
       "      <td>...</td>\n",
       "      <td>...</td>\n",
       "      <td>...</td>\n",
       "      <td>...</td>\n",
       "      <td>...</td>\n",
       "      <td>...</td>\n",
       "    </tr>\n",
       "    <tr>\n",
       "      <th>2035</th>\n",
       "      <td>2020-08-24 19:00:00</td>\n",
       "      <td>1.782250</td>\n",
       "      <td>1.382775</td>\n",
       "      <td>-0.771500</td>\n",
       "      <td>0.135938</td>\n",
       "      <td>-0.187485</td>\n",
       "      <td>0.922267</td>\n",
       "    </tr>\n",
       "    <tr>\n",
       "      <th>2036</th>\n",
       "      <td>2020-08-24 20:00:00</td>\n",
       "      <td>1.957562</td>\n",
       "      <td>1.221110</td>\n",
       "      <td>-0.926007</td>\n",
       "      <td>0.135938</td>\n",
       "      <td>-0.187485</td>\n",
       "      <td>-0.609422</td>\n",
       "    </tr>\n",
       "    <tr>\n",
       "      <th>2037</th>\n",
       "      <td>2020-08-24 21:00:00</td>\n",
       "      <td>1.829000</td>\n",
       "      <td>1.124111</td>\n",
       "      <td>-0.926007</td>\n",
       "      <td>0.352139</td>\n",
       "      <td>-0.187485</td>\n",
       "      <td>-0.609422</td>\n",
       "    </tr>\n",
       "    <tr>\n",
       "      <th>2038</th>\n",
       "      <td>2020-08-24 22:00:00</td>\n",
       "      <td>1.737625</td>\n",
       "      <td>1.059445</td>\n",
       "      <td>-1.647039</td>\n",
       "      <td>0.208005</td>\n",
       "      <td>-0.187485</td>\n",
       "      <td>-0.609422</td>\n",
       "    </tr>\n",
       "    <tr>\n",
       "      <th>2039</th>\n",
       "      <td>2020-08-24 23:00:00</td>\n",
       "      <td>1.576125</td>\n",
       "      <td>0.994779</td>\n",
       "      <td>-0.926007</td>\n",
       "      <td>0.424206</td>\n",
       "      <td>-0.187485</td>\n",
       "      <td>-0.609422</td>\n",
       "    </tr>\n",
       "  </tbody>\n",
       "</table>\n",
       "<p>2040 rows × 7 columns</p>\n",
       "</div>"
      ],
      "text/plain": [
       "               date_time  전력사용량(kWh)    기온(°C)   풍속(m/s)     습도(%)   강수량(mm)   \n",
       "0    2020-06-01 00:00:00    0.858938 -1.721194 -0.359481  0.928674 -0.187485  \\\n",
       "1    2020-06-01 01:00:00    1.064000 -1.559529 -0.462486  0.568339 -0.187485   \n",
       "2    2020-06-01 02:00:00    0.945000 -1.494863  0.001035  0.352139 -0.187485   \n",
       "3    2020-06-01 03:00:00    0.819625 -1.494863  0.464556  0.280072 -0.187485   \n",
       "4    2020-06-01 04:00:00    0.976875 -1.527196  0.361551  0.424206 -0.187485   \n",
       "...                  ...         ...       ...       ...       ...       ...   \n",
       "2035 2020-08-24 19:00:00    1.782250  1.382775 -0.771500  0.135938 -0.187485   \n",
       "2036 2020-08-24 20:00:00    1.957562  1.221110 -0.926007  0.135938 -0.187485   \n",
       "2037 2020-08-24 21:00:00    1.829000  1.124111 -0.926007  0.352139 -0.187485   \n",
       "2038 2020-08-24 22:00:00    1.737625  1.059445 -1.647039  0.208005 -0.187485   \n",
       "2039 2020-08-24 23:00:00    1.576125  0.994779 -0.926007  0.424206 -0.187485   \n",
       "\n",
       "        일조(hr)  \n",
       "0    -0.609422  \n",
       "1    -0.609422  \n",
       "2    -0.609422  \n",
       "3    -0.609422  \n",
       "4    -0.609422  \n",
       "...        ...  \n",
       "2035  0.922267  \n",
       "2036 -0.609422  \n",
       "2037 -0.609422  \n",
       "2038 -0.609422  \n",
       "2039 -0.609422  \n",
       "\n",
       "[2040 rows x 7 columns]"
      ]
     },
     "execution_count": 27,
     "metadata": {},
     "output_type": "execute_result"
    }
   ],
   "source": [
    "train_df_fe"
   ]
  },
  {
   "cell_type": "code",
   "execution_count": 28,
   "metadata": {},
   "outputs": [],
   "source": [
    "train_x, train_y, train_date = time_slide_df(train_df_fe, window_size, forecast_size, date, targets)"
   ]
  },
  {
   "cell_type": "code",
   "execution_count": 29,
   "metadata": {},
   "outputs": [
    {
     "data": {
      "text/plain": [
       "(1945, 72, 1)"
      ]
     },
     "execution_count": 29,
     "metadata": {},
     "output_type": "execute_result"
    }
   ],
   "source": [
    "train_x.shape"
   ]
  },
  {
   "cell_type": "code",
   "execution_count": 30,
   "metadata": {},
   "outputs": [
    {
     "data": {
      "text/plain": [
       "(72, 1)"
      ]
     },
     "execution_count": 30,
     "metadata": {},
     "output_type": "execute_result"
    }
   ],
   "source": [
    "train_x[0].shape"
   ]
  },
  {
   "cell_type": "code",
   "execution_count": 31,
   "metadata": {},
   "outputs": [
    {
     "data": {
      "text/plain": [
       "(1945, 24)"
      ]
     },
     "execution_count": 31,
     "metadata": {},
     "output_type": "execute_result"
    }
   ],
   "source": [
    "train_y.shape"
   ]
  },
  {
   "cell_type": "code",
   "execution_count": 32,
   "metadata": {},
   "outputs": [],
   "source": [
    "train_ds = Data(train_x[:1000], train_y[:1000])\n",
    "valid_ds = Data(train_x[1000:], train_y[1000:])"
   ]
  },
  {
   "cell_type": "code",
   "execution_count": 33,
   "metadata": {},
   "outputs": [],
   "source": [
    "train_dl = DataLoader(train_ds, batch_size = batch_size, shuffle=True,)\n",
    "valid_dl = DataLoader(valid_ds, batch_size = train_x[1000:].shape[0], shuffle=False)"
   ]
  },
  {
   "cell_type": "code",
   "execution_count": 34,
   "metadata": {},
   "outputs": [],
   "source": [
    "### 모델 학습 ###\n",
    "train_loss_list = []\n",
    "valid_loss_list = []\n",
    "test_loss_list = []\n",
    "epoch = 50\n",
    "lr = 0.001"
   ]
  },
  {
   "cell_type": "code",
   "execution_count": 35,
   "metadata": {},
   "outputs": [],
   "source": [
    "DLinear_model = LTSF_DLinear(\n",
    "                            window_size=window_size,\n",
    "                            forecast_size=forecast_size,\n",
    "                            kernel_size=25,\n",
    "                            individual=False,\n",
    "                            feature_size=1,\n",
    "                            )"
   ]
  },
  {
   "cell_type": "code",
   "execution_count": 36,
   "metadata": {},
   "outputs": [
    {
     "data": {
      "text/plain": [
       "LTSF_DLinear(\n",
       "  (decompsition): series_decomp(\n",
       "    (moving_avg): moving_avg(\n",
       "      (avg): AvgPool1d(kernel_size=(25,), stride=(1,), padding=(0,))\n",
       "    )\n",
       "  )\n",
       "  (Linear_Trend): Linear(in_features=72, out_features=24, bias=True)\n",
       "  (Linear_Seasonal): Linear(in_features=72, out_features=24, bias=True)\n",
       ")"
      ]
     },
     "execution_count": 36,
     "metadata": {},
     "output_type": "execute_result"
    }
   ],
   "source": [
    "\n",
    "DLinear_model"
   ]
  },
  {
   "cell_type": "code",
   "execution_count": 37,
   "metadata": {},
   "outputs": [],
   "source": [
    "criterion = torch.nn.MSELoss()\n",
    "optimizer = torch.optim.Adam(DLinear_model.parameters(), lr=lr)\n",
    "max_loss = 999999999"
   ]
  },
  {
   "cell_type": "code",
   "execution_count": 38,
   "metadata": {},
   "outputs": [
    {
     "data": {
      "application/vnd.jupyter.widget-view+json": {
       "model_id": "d14c86f5b9734272bffadcda705c6c5b",
       "version_major": 2,
       "version_minor": 0
      },
      "text/plain": [
       "  0%|          | 0/50 [00:00<?, ?it/s]"
      ]
     },
     "metadata": {},
     "output_type": "display_data"
    },
    {
     "name": "stdout",
     "output_type": "stream",
     "text": [
      "valid_loss=0.718, Model Save\n",
      "epoch = 1, train_loss : 0.732, valid_loss : 0.718\n",
      "valid_loss=0.655, Model Save\n",
      "epoch = 2, train_loss : 0.558, valid_loss : 0.655\n",
      "valid_loss=0.639, Model Save\n",
      "epoch = 3, train_loss : 0.506, valid_loss : 0.639\n",
      "epoch = 4, train_loss : 0.481, valid_loss : 0.645\n",
      "epoch = 5, train_loss : 0.464, valid_loss : 0.666\n",
      "epoch = 6, train_loss : 0.453, valid_loss : 0.655\n",
      "epoch = 7, train_loss : 0.449, valid_loss : 0.694\n",
      "epoch = 8, train_loss : 0.442, valid_loss : 0.681\n",
      "epoch = 9, train_loss : 0.442, valid_loss : 0.713\n",
      "epoch = 10, train_loss : 0.439, valid_loss : 0.715\n",
      "epoch = 11, train_loss : 0.435, valid_loss : 0.718\n",
      "epoch = 12, train_loss : 0.434, valid_loss : 0.714\n",
      "epoch = 13, train_loss : 0.429, valid_loss : 0.720\n",
      "epoch = 14, train_loss : 0.426, valid_loss : 0.747\n",
      "epoch = 15, train_loss : 0.426, valid_loss : 0.748\n",
      "epoch = 16, train_loss : 0.425, valid_loss : 0.768\n",
      "epoch = 17, train_loss : 0.421, valid_loss : 0.734\n",
      "epoch = 18, train_loss : 0.420, valid_loss : 0.752\n",
      "epoch = 19, train_loss : 0.421, valid_loss : 0.765\n",
      "epoch = 20, train_loss : 0.422, valid_loss : 0.754\n",
      "epoch = 21, train_loss : 0.423, valid_loss : 0.758\n",
      "epoch = 22, train_loss : 0.417, valid_loss : 0.752\n",
      "epoch = 23, train_loss : 0.416, valid_loss : 0.776\n",
      "epoch = 24, train_loss : 0.421, valid_loss : 0.764\n",
      "epoch = 25, train_loss : 0.417, valid_loss : 0.766\n",
      "epoch = 26, train_loss : 0.416, valid_loss : 0.745\n",
      "epoch = 27, train_loss : 0.421, valid_loss : 0.792\n",
      "epoch = 28, train_loss : 0.416, valid_loss : 0.777\n",
      "epoch = 29, train_loss : 0.415, valid_loss : 0.771\n",
      "epoch = 30, train_loss : 0.417, valid_loss : 0.770\n",
      "epoch = 31, train_loss : 0.413, valid_loss : 0.773\n",
      "epoch = 32, train_loss : 0.413, valid_loss : 0.762\n",
      "epoch = 33, train_loss : 0.412, valid_loss : 0.748\n",
      "epoch = 34, train_loss : 0.413, valid_loss : 0.760\n",
      "epoch = 35, train_loss : 0.415, valid_loss : 0.759\n",
      "epoch = 36, train_loss : 0.416, valid_loss : 0.788\n",
      "epoch = 37, train_loss : 0.415, valid_loss : 0.773\n",
      "epoch = 38, train_loss : 0.416, valid_loss : 0.743\n",
      "epoch = 39, train_loss : 0.412, valid_loss : 0.757\n",
      "epoch = 40, train_loss : 0.414, valid_loss : 0.773\n",
      "epoch = 41, train_loss : 0.414, valid_loss : 0.758\n",
      "epoch = 42, train_loss : 0.413, valid_loss : 0.761\n",
      "epoch = 43, train_loss : 0.412, valid_loss : 0.759\n",
      "epoch = 44, train_loss : 0.417, valid_loss : 0.758\n",
      "epoch = 45, train_loss : 0.411, valid_loss : 0.769\n",
      "epoch = 46, train_loss : 0.412, valid_loss : 0.762\n",
      "epoch = 47, train_loss : 0.413, valid_loss : 0.746\n",
      "epoch = 48, train_loss : 0.411, valid_loss : 0.758\n",
      "epoch = 49, train_loss : 0.414, valid_loss : 0.755\n",
      "epoch = 50, train_loss : 0.412, valid_loss : 0.748\n"
     ]
    }
   ],
   "source": [
    "for epoch in tqdm(range(1, epoch+1)):\n",
    "    loss_list = []\n",
    "    DLinear_model.train()\n",
    "    \n",
    "    for batch_idx, (data, target) in enumerate(train_dl):\n",
    "        optimizer.zero_grad()\n",
    "        output = DLinear_model(data)\n",
    "        loss = criterion(output, target.unsqueeze(-1))\n",
    "        loss.backward()\n",
    "        optimizer.step()\n",
    "        loss_list.append(loss.item())\n",
    "    train_loss_list.append(np.mean(loss_list))\n",
    "    \n",
    "    \n",
    "    DLinear_model.eval()\n",
    "    with torch.no_grad():\n",
    "        for data, target in valid_dl:\n",
    "            output = DLinear_model(data)\n",
    "            valid_loss = criterion(output, target.unsqueeze(-1))\n",
    "            valid_loss_list.append(valid_loss)\n",
    "            \n",
    "    if valid_loss < max_loss:\n",
    "        torch.save(DLinear_model, 'DLinear_model.pth')\n",
    "        max_loss = valid_loss\n",
    "        print(\"valid_loss={:.3f}, Model Save\".format(valid_loss))\n",
    "        dlinear_best_epoch = epoch\n",
    "        dlinear_best_train_loss = np.mean(loss_list)\n",
    "        dlinear_best_valid_loss = np.mean(valid_loss.item())\n",
    "\n",
    "    print(\"epoch = {}, train_loss : {:.3f}, valid_loss : {:.3f}\".format(\n",
    "        epoch, np.mean(loss_list), valid_loss))\n"
   ]
  },
  {
   "cell_type": "code",
   "execution_count": 39,
   "metadata": {},
   "outputs": [],
   "source": [
    "weights_list = {}\n",
    "weights_list['trend'] = DLinear_model.Linear_Trend.weight.detach().numpy()\n",
    "weights_list['seasonal'] = DLinear_model.Linear_Seasonal.weight.detach().numpy()"
   ]
  },
  {
   "cell_type": "code",
   "execution_count": 40,
   "metadata": {},
   "outputs": [
    {
     "data": {
      "image/png": "[encoded data removed]",
      "text/plain": [
       "<Figure size 640x480 with 2 Axes>"
      ]
     },
     "metadata": {},
     "output_type": "display_data"
    },
    {
     "data": {
      "image/png": "[encoded data removed]",
      "text/plain": [
       "<Figure size 640x480 with 2 Axes>"
      ]
     },
     "metadata": {},
     "output_type": "display_data"
    }
   ],
   "source": [
    "for name, w in weights_list.items():    \n",
    "    fig, ax = plt.subplots()    \n",
    "    plt.title(name)\n",
    "    im = ax.imshow(w, cmap='plasma_r',)\n",
    "    fig.colorbar(im, pad=0.03)\n",
    "    plt.show()"
   ]
  },
  {
   "cell_type": "code",
   "execution_count": null,
   "metadata": {},
   "outputs": [],
   "source": []
  }
 ],
 "metadata": {
  "kernelspec": {
   "display_name": "base",
   "language": "python",
   "name": "python3"
  },
  "language_info": {
   "codemirror_mode": {
    "name": "ipython",
    "version": 3
   },
   "file_extension": ".py",
   "mimetype": "text/x-python",
   "name": "python",
   "nbconvert_exporter": "python",
   "pygments_lexer": "ipython3",
   "version": "3.9.16"
  },
  "orig_nbformat": 4
 },
 "nbformat": 4,
 "nbformat_minor": 2
}
